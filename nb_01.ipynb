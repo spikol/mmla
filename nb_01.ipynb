{
  "nbformat": 4,
  "nbformat_minor": 0,
  "metadata": {
    "colab": {
      "name": "nb_01.ipynb",
      "provenance": [],
      "toc_visible": true,
      "authorship_tag": "ABX9TyM6JVNYgAtZoX8l2+t6MWbN",
      "include_colab_link": true
    },
    "kernelspec": {
      "name": "python3",
      "display_name": "Python 3"
    },
    "language_info": {
      "name": "python"
    }
  },
  "cells": [
    {
      "cell_type": "markdown",
      "metadata": {
        "id": "view-in-github",
        "colab_type": "text"
      },
      "source": [
        "<a href=\"https://colab.research.google.com/github/spikol/mmla/blob/main/nb_01.ipynb\" target=\"_parent\"><img src=\"https://colab.research.google.com/assets/colab-badge.svg\" alt=\"Open In Colab\"/></a>"
      ]
    },
    {
      "cell_type": "markdown",
      "metadata": {
        "id": "cwmtN3VcthoL"
      },
      "source": [
        "### Naive Bayes Classifier\n",
        "Borrowed from this awesome [tutorial](https://medium.com/analytics-vidhya/naive-bayes-classification-aa381b00dd45)!\n",
        "\n",
        "Naive Bayes is a supervised learning classification. It is a probabilistic classifier based on Bayes theorem. The name naive stems from the fact that classifier assumes that pairs of features are independent, thus significantly simplifying the model parameters are training requirements. This simplifies the computation that’s why it is called as ‘naive’. This is also called as class independence.\n"
      ]
    },
    {
      "cell_type": "markdown",
      "metadata": {
        "id": "SnTtRlCV8176"
      },
      "source": [
        "#### Importing the Libraries"
      ]
    },
    {
      "cell_type": "code",
      "metadata": {
        "id": "bgB2Ptv-tarh"
      },
      "source": [
        "import pandas as pd\n",
        "import numpy as np\n",
        "import seaborn as sns\n",
        "import matplotlib.pyplot as plt\n",
        "from sklearn.model_selection import train_test_split\n",
        "from sklearn.metrics import classification_report, confusion_matrix, accuracy_score\n"
      ],
      "execution_count": 1,
      "outputs": []
    },
    {
      "cell_type": "markdown",
      "metadata": {
        "id": "nNwFIlsGtnv0"
      },
      "source": [
        "#### Loading in the PELARS data set\n",
        "\n",
        "Checking the data and some pre-processing if needed."
      ]
    },
    {
      "cell_type": "code",
      "metadata": {
        "colab": {
          "base_uri": "https://localhost:8080/"
        },
        "id": "-g2EfbCctnPA",
        "outputId": "e3e10456-7185-4b2d-dcd3-865fb9484980"
      },
      "source": [
        "col_names = ['session', 'time', 'distance', 'per', 'hand', 'num', 'audio', 'ide', 'label']\n",
        "# load dataset\n",
        "url='https://raw.githubusercontent.com/spikol/mmla/main/data_halfway_01.csv'\n",
        "#skip first row in csv since column labels\n",
        "pelars = pd.read_csv(url, header=0, names=col_names)\n",
        "pelars = pelars.drop(['time'],axis=1)  #Dropping unncessary columns\n",
        "pelars.head()  #Displaying first five rows of the dataset\n",
        "#Preprocessing\n",
        "#pelars.isnull().sum()\n",
        "pelars.shape #shape of the data frame\n",
        "#pelars.info()"
      ],
      "execution_count": 2,
      "outputs": [
        {
          "output_type": "execute_result",
          "data": {
            "text/plain": [
              "(36, 8)"
            ]
          },
          "metadata": {
            "tags": []
          },
          "execution_count": 2
        }
      ]
    },
    {
      "cell_type": "markdown",
      "metadata": {
        "id": "d-N0E3TWtm_G"
      },
      "source": [
        "####Data Visualization:\n",
        "It aims to communicate data clearly & efficiently through graphical representation."
      ]
    },
    {
      "cell_type": "code",
      "metadata": {
        "colab": {
          "base_uri": "https://localhost:8080/",
          "height": 296
        },
        "id": "EdSLSA5jvvco",
        "outputId": "ab8851ea-6d89-4693-dd16-0777e40bf555"
      },
      "source": [
        "sns.countplot(x='label',data=pelars)"
      ],
      "execution_count": 3,
      "outputs": [
        {
          "output_type": "execute_result",
          "data": {
            "text/plain": [
              "<matplotlib.axes._subplots.AxesSubplot at 0x7fe5aeda7710>"
            ]
          },
          "metadata": {
            "tags": []
          },
          "execution_count": 3
        },
        {
          "output_type": "display_data",
          "data": {
            "image/png": "[encoded data removed]",
            "text/plain": [
              "<Figure size 432x288 with 1 Axes>"
            ]
          },
          "metadata": {
            "tags": [],
            "needs_background": "light"
          }
        }
      ]
    },
    {
      "cell_type": "markdown",
      "metadata": {
        "id": "RYFa99-0wCDC"
      },
      "source": [
        "#### Adjusting what Features to use \n",
        "Drop columns and see what happens to the classification"
      ]
    },
    {
      "cell_type": "code",
      "metadata": {
        "id": "p22GOvNyyWSh"
      },
      "source": [
        "#pelars = pelars.drop(['distance','per','num','audio','ide'],axis=1)  #Dropping unncessary columns"
      ],
      "execution_count": 4,
      "outputs": []
    },
    {
      "cell_type": "markdown",
      "metadata": {
        "id": "O-wzVL5lyXqY"
      },
      "source": [
        "### Training and Testing the data"
      ]
    },
    {
      "cell_type": "code",
      "metadata": {
        "id": "ZlXOmGndwCOC"
      },
      "source": [
        "X=pelars.drop('label',axis=1)\n",
        "y=pelars['label']\n",
        "X_train,X_test,y_train,y_test=train_test_split(X,y,test_size=0.3,random_state=1)"
      ],
      "execution_count": 5,
      "outputs": []
    },
    {
      "cell_type": "markdown",
      "metadata": {
        "id": "gWw947eiw5Uw"
      },
      "source": [
        "#### Apply the Naive Bayes theorem"
      ]
    },
    {
      "cell_type": "code",
      "metadata": {
        "colab": {
          "base_uri": "https://localhost:8080/"
        },
        "id": "iY_nkxFLw46A",
        "outputId": "22022d0a-09e1-4576-f2f6-c438dfdb3182"
      },
      "source": [
        "from sklearn.naive_bayes import GaussianNB\n",
        "model = GaussianNB()\n",
        "model.fit(X_train,y_train)"
      ],
      "execution_count": 6,
      "outputs": [
        {
          "output_type": "execute_result",
          "data": {
            "text/plain": [
              "GaussianNB(priors=None, var_smoothing=1e-09)"
            ]
          },
          "metadata": {
            "tags": []
          },
          "execution_count": 6
        }
      ]
    },
    {
      "cell_type": "markdown",
      "metadata": {
        "id": "lkS3DpRWw4pU"
      },
      "source": [
        "####Compare the actual status and predicted status"
      ]
    },
    {
      "cell_type": "code",
      "metadata": {
        "colab": {
          "base_uri": "https://localhost:8080/",
          "height": 390
        },
        "id": "7hRuatqIw_AD",
        "outputId": "47bd7c0e-0d95-4b20-edb9-734f308bb6bc"
      },
      "source": [
        "y_pred=model.predict(X_test)\n",
        "df1=pd.DataFrame({'Actual Status':y_test,'Predicted Status':y_pred})\n",
        "df1"
      ],
      "execution_count": 7,
      "outputs": [
        {
          "output_type": "execute_result",
          "data": {
            "text/html": [
              "<div>\n",
              "<style scoped>\n",
              "    .dataframe tbody tr th:only-of-type {\n",
              "        vertical-align: middle;\n",
              "    }\n",
              "\n",
              "    .dataframe tbody tr th {\n",
              "        vertical-align: top;\n",
              "    }\n",
              "\n",
              "    .dataframe thead th {\n",
              "        text-align: right;\n",
              "    }\n",
              "</style>\n",
              "<table border=\"1\" class=\"dataframe\">\n",
              "  <thead>\n",
              "    <tr style=\"text-align: right;\">\n",
              "      <th></th>\n",
              "      <th>Actual Status</th>\n",
              "      <th>Predicted Status</th>\n",
              "    </tr>\n",
              "  </thead>\n",
              "  <tbody>\n",
              "    <tr>\n",
              "      <th>30</th>\n",
              "      <td>1</td>\n",
              "      <td>1</td>\n",
              "    </tr>\n",
              "    <tr>\n",
              "      <th>34</th>\n",
              "      <td>1</td>\n",
              "      <td>1</td>\n",
              "    </tr>\n",
              "    <tr>\n",
              "      <th>28</th>\n",
              "      <td>1</td>\n",
              "      <td>1</td>\n",
              "    </tr>\n",
              "    <tr>\n",
              "      <th>3</th>\n",
              "      <td>0</td>\n",
              "      <td>0</td>\n",
              "    </tr>\n",
              "    <tr>\n",
              "      <th>19</th>\n",
              "      <td>0</td>\n",
              "      <td>0</td>\n",
              "    </tr>\n",
              "    <tr>\n",
              "      <th>17</th>\n",
              "      <td>0</td>\n",
              "      <td>0</td>\n",
              "    </tr>\n",
              "    <tr>\n",
              "      <th>21</th>\n",
              "      <td>1</td>\n",
              "      <td>1</td>\n",
              "    </tr>\n",
              "    <tr>\n",
              "      <th>23</th>\n",
              "      <td>1</td>\n",
              "      <td>1</td>\n",
              "    </tr>\n",
              "    <tr>\n",
              "      <th>29</th>\n",
              "      <td>1</td>\n",
              "      <td>0</td>\n",
              "    </tr>\n",
              "    <tr>\n",
              "      <th>26</th>\n",
              "      <td>1</td>\n",
              "      <td>1</td>\n",
              "    </tr>\n",
              "    <tr>\n",
              "      <th>27</th>\n",
              "      <td>1</td>\n",
              "      <td>1</td>\n",
              "    </tr>\n",
              "  </tbody>\n",
              "</table>\n",
              "</div>"
            ],
            "text/plain": [
              "    Actual Status  Predicted Status\n",
              "30              1                 1\n",
              "34              1                 1\n",
              "28              1                 1\n",
              "3               0                 0\n",
              "19              0                 0\n",
              "17              0                 0\n",
              "21              1                 1\n",
              "23              1                 1\n",
              "29              1                 0\n",
              "26              1                 1\n",
              "27              1                 1"
            ]
          },
          "metadata": {
            "tags": []
          },
          "execution_count": 7
        }
      ]
    },
    {
      "cell_type": "markdown",
      "metadata": {
        "id": "FdTpLQ5ix11q"
      },
      "source": [
        "####Classification Report:\n",
        "A Classification report is used to measure the quality of predictions from a classification algorithm."
      ]
    },
    {
      "cell_type": "code",
      "metadata": {
        "id": "KnR_YTwKx2EQ",
        "colab": {
          "base_uri": "https://localhost:8080/"
        },
        "outputId": "6ab34a6a-61d2-47fd-c525-088983f6dd29"
      },
      "source": [
        "\n",
        "print(classification_report(y_test, y_pred))\n",
        "with open('sample_data/Example2.txt', 'a') as testwritefile:\n",
        "  testwritefile.write(\"------------------------------------------------------ D\\n\")\n",
        "  testwritefile.write(classification_report(y_test, y_pred))"
      ],
      "execution_count": 11,
      "outputs": [
        {
          "output_type": "stream",
          "text": [
            "              precision    recall  f1-score   support\n",
            "\n",
            "           0       0.75      1.00      0.86         3\n",
            "           1       1.00      0.88      0.93         8\n",
            "\n",
            "    accuracy                           0.91        11\n",
            "   macro avg       0.88      0.94      0.90        11\n",
            "weighted avg       0.93      0.91      0.91        11\n",
            "\n"
          ],
          "name": "stdout"
        }
      ]
    },
    {
      "cell_type": "markdown",
      "metadata": {
        "id": "JKIJ8DYDx_WM"
      },
      "source": [
        "####Confusion Matrix:\n",
        "A confusion matrix is a summary of prediction results on a classification problem. The number of correct and incorrect predictions are summarized with count values and broken down by each class."
      ]
    },
    {
      "cell_type": "code",
      "metadata": {
        "id": "r-qpOFAnyAZL",
        "colab": {
          "base_uri": "https://localhost:8080/"
        },
        "outputId": "5cf50663-eabe-4b25-8257-dda1e638e692"
      },
      "source": [
        "print(confusion_matrix(y_test,y_pred))"
      ],
      "execution_count": 9,
      "outputs": [
        {
          "output_type": "stream",
          "text": [
            "[[3 0]\n",
            " [1 7]]\n"
          ],
          "name": "stdout"
        }
      ]
    },
    {
      "cell_type": "markdown",
      "metadata": {
        "id": "LPHb85wHyG8_"
      },
      "source": [
        "#### Accuracy score"
      ]
    },
    {
      "cell_type": "code",
      "metadata": {
        "id": "Zo-n59pcyH9I",
        "colab": {
          "base_uri": "https://localhost:8080/"
        },
        "outputId": "8559643b-f907-461b-f410-4ab52bfa24bb"
      },
      "source": [
        "print(accuracy_score(y_test,y_pred)*100)"
      ],
      "execution_count": 10,
      "outputs": [
        {
          "output_type": "stream",
          "text": [
            "90.9090909090909\n"
          ],
          "name": "stdout"
        }
      ]
    }
  ]
}