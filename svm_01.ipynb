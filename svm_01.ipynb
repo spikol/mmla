{
  "nbformat": 4,
  "nbformat_minor": 0,
  "metadata": {
    "colab": {
      "name": "svm_01.ipynb",
      "provenance": [],
      "toc_visible": true,
      "authorship_tag": "ABX9TyO25yk3KllseZ6wP03mAhqz",
      "include_colab_link": true
    },
    "kernelspec": {
      "name": "python3",
      "display_name": "Python 3"
    },
    "language_info": {
      "name": "python"
    }
  },
  "cells": [
    {
      "cell_type": "markdown",
      "metadata": {
        "id": "view-in-github",
        "colab_type": "text"
      },
      "source": [
        "<a href=\"https://colab.research.google.com/github/spikol/mmla/blob/main/svm_01.ipynb\" target=\"_parent\"><img src=\"https://colab.research.google.com/assets/colab-badge.svg\" alt=\"Open In Colab\"/></a>"
      ]
    },
    {
      "cell_type": "markdown",
      "metadata": {
        "id": "IwQqjQkrkC3A"
      },
      "source": [
        "###Support Vector Machines with Scikit-learn\n",
        "In this [tutorial](https://colab.research.google.com/github/akshayrb22/playing-with-data/blob/master/supervised_learning/support_vector_machine/svm.ipynb#scrollTo=XlOodOxqj7CQ), you'll learn about Support Vector Machines, one of the most popular and widely used supervised machine learning algorithms.\n",
        "\n",
        "SVM offers very high accuracy compared to other classifiers such as logistic regression, and decision trees. It is known for its kernel trick to handle nonlinear input spaces. It is used in a variety of applications such as face detection, intrusion detection, classification of emails, news articles and web pages, classification of genes, and handwriting recognition.\n",
        "\n",
        "In another [tutorial](https://https://www.datacamp.com/community/tutorials/svm-classification-scikit-learn-python), you will be using scikit-learn in Python. If you would like to learn more about this Python package, I recommend you take a look at our Supervised Learning with scikit-learn course.\n",
        "\n",
        "SVM is an exciting algorithm and the concepts are relatively simple. The classifier separates data points using a hyperplane with the largest amount of margin. That's why an SVM classifier is also known as a discriminative classifier. SVM finds an optimal hyperplane which helps in classifying new data points.\n",
        "####Support Vector Machines\n",
        "Generally, Support Vector Machines is considered to be a classification approach, it but can be employed in both types of classification and regression problems. It can easily handle multiple continuous and categorical variables. SVM constructs a hyperplane in multidimensional space to separate different classes. SVM generates optimal hyperplane in an iterative manner, which is used to minimize an error. The core idea of SVM is to find a maximum marginal hyperplane(MMH) that best divides the dataset into classes.\n",
        "#####Support Vectors\n",
        "Support vectors are the data points, which are closest to the hyperplane. These points will define the separating line better by calculating margins. These points are more relevant to the construction of the classifier.\n",
        "\n",
        "#####Hyperplane\n",
        "A hyperplane is a decision plane which separates between a set of objects having different class memberships.\n",
        "\n",
        "#####Margin\n",
        "A margin is a gap between the two lines on the closest class points. This is calculated as the perpendicular distance from the line to support vectors or closest points. If the margin is larger in between the classes, then it is considered a good margin, a smaller margin is a bad margin.\n",
        "\n",
        "\n"
      ]
    },
    {
      "cell_type": "markdown",
      "metadata": {
        "id": "1qkNKZj4_SNW"
      },
      "source": [
        "###Loading Libraries"
      ]
    },
    {
      "cell_type": "code",
      "metadata": {
        "id": "_w0SfVOFjJgZ"
      },
      "source": [
        "import pandas as pd\n",
        "from sklearn.model_selection import train_test_split\n",
        "from sklearn.svm import SVC\n",
        "\n",
        "from matplotlib import pyplot as plt\n",
        "%matplotlib inline"
      ],
      "execution_count": 1,
      "outputs": []
    },
    {
      "cell_type": "markdown",
      "metadata": {
        "id": "d9ovllGXkGMj"
      },
      "source": [
        "### Loading in the PELARS data"
      ]
    },
    {
      "cell_type": "code",
      "metadata": {
        "colab": {
          "base_uri": "https://localhost:8080/",
          "height": 204
        },
        "id": "rzUzmpiukJVK",
        "outputId": "c4e92e10-cba5-4b8e-ccc6-251bc74d29ec"
      },
      "source": [
        "col_names = ['session', 'time', 'distance', 'per', 'hand', 'num', 'audio', 'ide', 'label']\n",
        "# load dataset\n",
        "url='https://raw.githubusercontent.com/spikol/mmla/main/data_full_01.csv'\n",
        "#skip first row in csv since column labels\n",
        "pelars = pd.read_csv(url, header=0, names=col_names)\n",
        "pelars = pelars.drop(['time'],axis=1)  #Dropping unncessary columns\n",
        "pelars.head()  #Displaying first five rows of the dataset"
      ],
      "execution_count": 2,
      "outputs": [
        {
          "output_type": "execute_result",
          "data": {
            "text/html": [
              "<div>\n",
              "<style scoped>\n",
              "    .dataframe tbody tr th:only-of-type {\n",
              "        vertical-align: middle;\n",
              "    }\n",
              "\n",
              "    .dataframe tbody tr th {\n",
              "        vertical-align: top;\n",
              "    }\n",
              "\n",
              "    .dataframe thead th {\n",
              "        text-align: right;\n",
              "    }\n",
              "</style>\n",
              "<table border=\"1\" class=\"dataframe\">\n",
              "  <thead>\n",
              "    <tr style=\"text-align: right;\">\n",
              "      <th></th>\n",
              "      <th>session</th>\n",
              "      <th>distance</th>\n",
              "      <th>per</th>\n",
              "      <th>hand</th>\n",
              "      <th>num</th>\n",
              "      <th>audio</th>\n",
              "      <th>ide</th>\n",
              "      <th>label</th>\n",
              "    </tr>\n",
              "  </thead>\n",
              "  <tbody>\n",
              "    <tr>\n",
              "      <th>0</th>\n",
              "      <td>1552</td>\n",
              "      <td>0.856020</td>\n",
              "      <td>0.538462</td>\n",
              "      <td>0.510407</td>\n",
              "      <td>18.076923</td>\n",
              "      <td>0.548573</td>\n",
              "      <td>1</td>\n",
              "      <td>0</td>\n",
              "    </tr>\n",
              "    <tr>\n",
              "      <th>1</th>\n",
              "      <td>1553</td>\n",
              "      <td>1.294250</td>\n",
              "      <td>0.942308</td>\n",
              "      <td>0.945247</td>\n",
              "      <td>16.096154</td>\n",
              "      <td>1.404692</td>\n",
              "      <td>2</td>\n",
              "      <td>0</td>\n",
              "    </tr>\n",
              "    <tr>\n",
              "      <th>2</th>\n",
              "      <td>1554</td>\n",
              "      <td>1.266581</td>\n",
              "      <td>0.961538</td>\n",
              "      <td>0.672268</td>\n",
              "      <td>15.903846</td>\n",
              "      <td>1.023435</td>\n",
              "      <td>5</td>\n",
              "      <td>0</td>\n",
              "    </tr>\n",
              "    <tr>\n",
              "      <th>3</th>\n",
              "      <td>1555</td>\n",
              "      <td>1.238911</td>\n",
              "      <td>0.980769</td>\n",
              "      <td>0.399288</td>\n",
              "      <td>15.711538</td>\n",
              "      <td>0.642178</td>\n",
              "      <td>2</td>\n",
              "      <td>0</td>\n",
              "    </tr>\n",
              "    <tr>\n",
              "      <th>4</th>\n",
              "      <td>1556</td>\n",
              "      <td>1.211242</td>\n",
              "      <td>1.000000</td>\n",
              "      <td>0.126309</td>\n",
              "      <td>15.519231</td>\n",
              "      <td>0.260921</td>\n",
              "      <td>2</td>\n",
              "      <td>0</td>\n",
              "    </tr>\n",
              "  </tbody>\n",
              "</table>\n",
              "</div>"
            ],
            "text/plain": [
              "   session  distance       per      hand        num     audio  ide  label\n",
              "0     1552  0.856020  0.538462  0.510407  18.076923  0.548573    1      0\n",
              "1     1553  1.294250  0.942308  0.945247  16.096154  1.404692    2      0\n",
              "2     1554  1.266581  0.961538  0.672268  15.903846  1.023435    5      0\n",
              "3     1555  1.238911  0.980769  0.399288  15.711538  0.642178    2      0\n",
              "4     1556  1.211242  1.000000  0.126309  15.519231  0.260921    2      0"
            ]
          },
          "metadata": {
            "tags": []
          },
          "execution_count": 2
        }
      ]
    },
    {
      "cell_type": "markdown",
      "metadata": {
        "id": "xPApbaFNnMDX"
      },
      "source": [
        "####Exploring Data\n",
        "After you have loaded the dataset, you might want to know a little bit more about it. You can check feature and target names."
      ]
    },
    {
      "cell_type": "code",
      "metadata": {
        "id": "vGycy-LPnMau"
      },
      "source": [
        "pelars1 = pelars[pelars.label == 1]\n",
        "pelars2 = pelars[pelars.label == 0]"
      ],
      "execution_count": 3,
      "outputs": []
    },
    {
      "cell_type": "code",
      "metadata": {
        "colab": {
          "base_uri": "https://localhost:8080/",
          "height": 596
        },
        "id": "OYkvGe7RpVWz",
        "outputId": "0ea80441-76ad-4605-aa51-c8e6e2e51853"
      },
      "source": [
        "plt.figure(figsize=(8, 3), dpi=200)\n",
        "plt.xlabel('hand')\n",
        "plt.ylabel('audio')\n",
        "plt.scatter(pelars1['hand'], pelars1['audio'], color='green', marker='+')\n",
        "plt.scatter(pelars2['hand'], pelars2['audio'], color='blue', marker='.')\n",
        "plt.savefig('sample_data/dtree.png')"
      ],
      "execution_count": 4,
      "outputs": [
        {
          "output_type": "display_data",
          "data": {
            "image/png": "[encoded data removed]",
            "text/plain": [
              "<Figure size 1600x600 with 1 Axes>"
            ]
          },
          "metadata": {
            "tags": [],
            "needs_background": "light"
          }
        }
      ]
    },
    {
      "cell_type": "markdown",
      "metadata": {
        "id": "jlv_6aE-q84A"
      },
      "source": [
        "####Remove the Label "
      ]
    },
    {
      "cell_type": "code",
      "metadata": {
        "id": "KD_NLZFEq7J9",
        "colab": {
          "base_uri": "https://localhost:8080/",
          "height": 204
        },
        "outputId": "fb3e858d-2a07-417f-8deb-e10042325348"
      },
      "source": [
        "X = pelars.drop(['label'], axis='columns')\n",
        "X.head()"
      ],
      "execution_count": 5,
      "outputs": [
        {
          "output_type": "execute_result",
          "data": {
            "text/html": [
              "<div>\n",
              "<style scoped>\n",
              "    .dataframe tbody tr th:only-of-type {\n",
              "        vertical-align: middle;\n",
              "    }\n",
              "\n",
              "    .dataframe tbody tr th {\n",
              "        vertical-align: top;\n",
              "    }\n",
              "\n",
              "    .dataframe thead th {\n",
              "        text-align: right;\n",
              "    }\n",
              "</style>\n",
              "<table border=\"1\" class=\"dataframe\">\n",
              "  <thead>\n",
              "    <tr style=\"text-align: right;\">\n",
              "      <th></th>\n",
              "      <th>session</th>\n",
              "      <th>distance</th>\n",
              "      <th>per</th>\n",
              "      <th>hand</th>\n",
              "      <th>num</th>\n",
              "      <th>audio</th>\n",
              "      <th>ide</th>\n",
              "    </tr>\n",
              "  </thead>\n",
              "  <tbody>\n",
              "    <tr>\n",
              "      <th>0</th>\n",
              "      <td>1552</td>\n",
              "      <td>0.856020</td>\n",
              "      <td>0.538462</td>\n",
              "      <td>0.510407</td>\n",
              "      <td>18.076923</td>\n",
              "      <td>0.548573</td>\n",
              "      <td>1</td>\n",
              "    </tr>\n",
              "    <tr>\n",
              "      <th>1</th>\n",
              "      <td>1553</td>\n",
              "      <td>1.294250</td>\n",
              "      <td>0.942308</td>\n",
              "      <td>0.945247</td>\n",
              "      <td>16.096154</td>\n",
              "      <td>1.404692</td>\n",
              "      <td>2</td>\n",
              "    </tr>\n",
              "    <tr>\n",
              "      <th>2</th>\n",
              "      <td>1554</td>\n",
              "      <td>1.266581</td>\n",
              "      <td>0.961538</td>\n",
              "      <td>0.672268</td>\n",
              "      <td>15.903846</td>\n",
              "      <td>1.023435</td>\n",
              "      <td>5</td>\n",
              "    </tr>\n",
              "    <tr>\n",
              "      <th>3</th>\n",
              "      <td>1555</td>\n",
              "      <td>1.238911</td>\n",
              "      <td>0.980769</td>\n",
              "      <td>0.399288</td>\n",
              "      <td>15.711538</td>\n",
              "      <td>0.642178</td>\n",
              "      <td>2</td>\n",
              "    </tr>\n",
              "    <tr>\n",
              "      <th>4</th>\n",
              "      <td>1556</td>\n",
              "      <td>1.211242</td>\n",
              "      <td>1.000000</td>\n",
              "      <td>0.126309</td>\n",
              "      <td>15.519231</td>\n",
              "      <td>0.260921</td>\n",
              "      <td>2</td>\n",
              "    </tr>\n",
              "  </tbody>\n",
              "</table>\n",
              "</div>"
            ],
            "text/plain": [
              "   session  distance       per      hand        num     audio  ide\n",
              "0     1552  0.856020  0.538462  0.510407  18.076923  0.548573    1\n",
              "1     1553  1.294250  0.942308  0.945247  16.096154  1.404692    2\n",
              "2     1554  1.266581  0.961538  0.672268  15.903846  1.023435    5\n",
              "3     1555  1.238911  0.980769  0.399288  15.711538  0.642178    2\n",
              "4     1556  1.211242  1.000000  0.126309  15.519231  0.260921    2"
            ]
          },
          "metadata": {
            "tags": []
          },
          "execution_count": 5
        }
      ]
    },
    {
      "cell_type": "markdown",
      "metadata": {
        "id": "dY8UGenbq652"
      },
      "source": [
        "#### Training with the label and making predictions"
      ]
    },
    {
      "cell_type": "code",
      "metadata": {
        "id": "qYSnDtV5rVkr",
        "colab": {
          "base_uri": "https://localhost:8080/"
        },
        "outputId": "036ae092-3ca3-4fb2-80e4-30e3547920be"
      },
      "source": [
        "y = pelars.label\n",
        "X_train, X_test, y_train, y_test = train_test_split(X, y, test_size=0.3)\n",
        "model = SVC(kernel='linear')\n",
        "model.fit(X_train, y_train)\n",
        "#prediction\n",
        "predictions = model.predict(X_test)\n",
        "print(predictions)"
      ],
      "execution_count": 6,
      "outputs": [
        {
          "output_type": "stream",
          "text": [
            "[1 0 1 1 0 1 0 1 0 1 0]\n"
          ],
          "name": "stdout"
        }
      ]
    },
    {
      "cell_type": "markdown",
      "metadata": {
        "id": "YIbDJ2CUrzKU"
      },
      "source": [
        "#### Evaluating the Model"
      ]
    },
    {
      "cell_type": "code",
      "metadata": {
        "id": "5Q_8bWtZrzXU",
        "colab": {
          "base_uri": "https://localhost:8080/"
        },
        "outputId": "37545cb1-8e2f-4171-aca5-71049c589dd4"
      },
      "source": [
        "percentage = model.score(X_test, y_test)\n",
        "from sklearn.metrics import confusion_matrix\n",
        "res = confusion_matrix(y_test, predictions)\n",
        "print(\"Confusion Matrix\")\n",
        "print(res)\n",
        "print(f\"Test Set: {len(X_test)}\")\n",
        "print(f\"Accuracy = {percentage*100} %\")"
      ],
      "execution_count": 7,
      "outputs": [
        {
          "output_type": "stream",
          "text": [
            "Confusion Matrix\n",
            "[[5 0]\n",
            " [0 6]]\n",
            "Test Set: 11\n",
            "Accuracy = 100.0 %\n"
          ],
          "name": "stdout"
        }
      ]
    }
  ]
}